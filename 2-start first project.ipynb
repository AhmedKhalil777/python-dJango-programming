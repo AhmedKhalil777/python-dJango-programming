{
 "cells": [
  {
   "cell_type": "markdown",
   "metadata": {},
   "source": [
    "# IN THE NAME OF ALLAH\n",
    "## start first project \n",
    "1. Type now in cmd in your specific directory **django-admin startproject \"_your project name_\"** ![8](pics/8.JPG) \n",
    "\n",
    "2. I create it in my desktop so i can find this directory project there ![9](pics/9.JPG)\n",
    "\n",
    "3. no let's look what in there so we can find 4 python files in website directory and in the root i find the manage file ![10](pics/10.JPG)\n",
    "\n",
    "4. let us now check our website and server -> now in cmd go to your website dirctory Type **CD website** then **python manage.py runserver** ![11](pics/11.JPG)\n",
    "\n",
    "5. let us browse our localhost ![12](pics/12.JPG)\n"
   ]
  },
  {
   "cell_type": "code",
   "execution_count": null,
   "metadata": {},
   "outputs": [],
   "source": []
  }
 ],
 "metadata": {
  "kernelspec": {
   "display_name": "Python 3",
   "language": "python",
   "name": "python3"
  },
  "language_info": {
   "codemirror_mode": {
    "name": "ipython",
    "version": 3
   },
   "file_extension": ".py",
   "mimetype": "text/x-python",
   "name": "python",
   "nbconvert_exporter": "python",
   "pygments_lexer": "ipython3",
   "version": "3.7.0"
  }
 },
 "nbformat": 4,
 "nbformat_minor": 2
}
