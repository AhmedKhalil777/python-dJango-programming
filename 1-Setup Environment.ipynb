{
 "cells": [
  {
   "cell_type": "markdown",
   "metadata": {},
   "source": [
    "# In the name of ALLAH "
   ]
  },
  {
   "cell_type": "markdown",
   "metadata": {},
   "source": [
    "# Setup Environment\n",
    " 1. Setup python 3.7.0 from [python](https://www.python.org/)  ![pic1](pics/pyd.JPG)\n",
    " 2. check your python  _ run cmd as Adminstrator _  and type **python --version** \n",
    " 3. check your easy_install  _ run cmd as Adminstrator _  and type **easy_install --version** ![pic2](pics/2.JPG)\n",
    " 4. now setup Django environment you can type **easy_install django** or you need specific version Type **easy_install django==#version** ![pic3](pics/3.JPG)\n",
    " 5. let us check our django existance  **django-admin --version ** ![pic7](pics/7.JPG)\,
    " \n",
    " \n",
    " \n",
    " "
   ]
  },
  {
   "cell_type": "markdown",
   "metadata": {},
   "source": [
    "## errors can found \n",
    " 1. if you found **_'python' is not recognized as an internal or external command,\n",
    "operable program or batch file._**\n",
    "    - you must identify the Path of python Variable and easy_install variable \n",
    "    -![pic4](pics/4.JPG)  ![pic5](pics/5.JPG) ![pic6](pics/6.JPG)\n",
    "    - and the system variable paths too .\n",
    "    "
   ]
  },
  {
   "cell_type": "markdown",
   "metadata": {},
   "source": [
    "# Thank You \n",
    ":+1:"
   ]
  },
  {
   "cell_type": "code",
   "execution_count": null,
   "metadata": {},
   "outputs": [],
   "source": []
  }
 ],
 "metadata": {
  "kernelspec": {
   "display_name": "Python 3",
   "language": "python",
   "name": "python3"
  },
  "language_info": {
   "codemirror_mode": {
    "name": "ipython",
    "version": 3
   },
   "file_extension": ".py",
   "mimetype": "text/x-python",
   "name": "python",
   "nbconvert_exporter": "python",
   "pygments_lexer": "ipython3",
   "version": "3.7.0"
  }
 },
 "nbformat": 4,
 "nbformat_minor": 2
}
